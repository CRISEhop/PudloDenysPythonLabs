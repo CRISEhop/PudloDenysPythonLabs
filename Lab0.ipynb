{
 "cells": [
  {
   "cell_type": "code",
   "execution_count": 1,
   "id": "ce3a83a0-ec72-44db-ba80-9d60cd1f04f2",
   "metadata": {},
   "outputs": [
    {
     "name": "stdout",
     "output_type": "stream",
     "text": [
      "9\n"
     ]
    }
   ],
   "source": [
    "n = ord(\"D\") % 10 + 1\n",
    "print (n)"
   ]
  },
  {
   "cell_type": "markdown",
   "id": "ed0984ba-d066-4853-a948-9f31082dfabc",
   "metadata": {},
   "source": [
    "# Чеська Республіка\n",
    "\n",
    "## Загальна інформація\n",
    "\n",
    "- **Площа:** 78,865 км²\n",
    "- **Населення:** приблизно 10,5 млн осіб\n",
    "- **Державний устрій:** парламентська республіка\n",
    "\n",
    "## Видатні особистості\n",
    "\n",
    "1. **Вацлав Гавел** — перший президент Чехії після 1989 року.\n",
    "2. **Кафка Франц** — видатний письменник.\n",
    "3. **Павел Неврлий** — сучасний чеський художник.\n",
    "\n",
    "## Пам'ятки культури та природи\n",
    "\n",
    "- **Прага** — столиця, відома своєю архітектурною спадщиною.\n",
    "- **Карловий міст** — знаменитий міст у Празі.\n",
    "- **Національний парк Шумава** — природна краса та різноманітність флори і фауни.\n",
    "\n",
    "![Чехія зображення](https://lh3.googleusercontent.com/proxy/y0WNuEmTKVWqSfnw5lMcyJJE4adl7Oq5iFhVuiwFkrGokNOHdgxpnbP-5C0qHFtW__r3dHYmL7npoqgQ-zd70juSYocx_3l7X_QfcD8QDllWIkiuOTs)\n",
    "\n",
    "![Чехія зображення](https://www.avantage-travel.com.ua/image/catalog/%D0%A1%D1%82%D1%80%D0%B0%D0%BD%D1%8B/%D0%A7%D0%B5%D1%85%D0%B8%D1%8F/%D0%A7%D0%B5%D1%85%D0%B8%D1%8F.jpg)\n",
    "\n",
    "\n",
    "## Гіперпосилання\n",
    "\n",
    "- [Офіційний сайт Чеської Республіки](https://en.wikipedia.org/wiki/Czech_Republic)\n",
    "\n",
    "## Таблиця\n",
    "\n",
    "| Місто        | Населення | Відомі пам'ятки       |\n",
    "|--------------|-----------|-----------------------|\n",
    "| Прага        | 1,3 млн   | Старомěstська площа   |\n",
    "| Брно         | 380,000   | Вілла Тугендхатта    |\n",
    "| Острава      | 290,000   | Технологічний музей   |\n",
    "\n",
    "## Список\n",
    "\n",
    "- **Кухня:**\n",
    "  - Свічкова (м’ясна страва)\n",
    "  - Пивні традиції\n",
    "  - Чехи споживають понад 140 літрів пива на людину на рік!\n",
    "\n",
    "### Прапор Чеської Республіки\n"
   ]
  },
  {
   "cell_type": "code",
   "execution_count": 2,
   "id": "10bcdfbf-dfb1-4f86-a542-16e92d68c073",
   "metadata": {},
   "outputs": [
    {
     "data": {
      "image/svg+xml": [
       "<svg xmlns=\"http://www.w3.org/2000/svg\" width=\"300\" height=\"200\">\n",
       "  <rect width=\"300\" height=\"100\" fill=\"white\"/>\n",
       "  <rect width=\"300\" height=\"200\" fill=\"red\" y=\"100\"/>\n",
       "  <polygon points=\"0,0 150,100 0,200\" fill=\"blue\"/>\n",
       "</svg>"
      ],
      "text/plain": [
       "<IPython.core.display.SVG object>"
      ]
     },
     "metadata": {},
     "output_type": "display_data"
    }
   ],
   "source": [
    "from IPython.display import SVG, display\n",
    "svg_code = '''<svg width=\"300\" height=\"200\" xmlns=\"http://www.w3.org/2000/svg\">\n",
    "  <rect width=\"300\" height=\"100\" fill=\"white\"/>\n",
    "  <rect width=\"300\" height=\"200\" fill=\"red\" y=\"100\"/>\n",
    "  <polygon points=\"0,0 150,100 0,200\" fill=\"blue\"/>\n",
    "</svg>\n",
    "'''\n",
    "\n",
    "display(SVG(data=svg_code))"
   ]
  },
  {
   "cell_type": "code",
   "execution_count": 13,
   "id": "e94d40f6-f81e-4b45-85fc-084fe5165bc4",
   "metadata": {},
   "outputs": [
    {
     "name": "stdout",
     "output_type": "stream",
     "text": [
      "11\n",
      "139\n",
      "Помилка, число не може бути відємним!\n"
     ]
    }
   ],
   "source": [
    "def find_k_prime(k):\n",
    "    if k <= 0:\n",
    "        return \"Помилка, число не може бути відємним!\"\n",
    "\n",
    "    count = 0  \n",
    "    num = 2   \n",
    "\n",
    "    while count < k:\n",
    "        is_prime = True\n",
    "        for i in range(2, num):\n",
    "            if num % i == 0:\n",
    "                is_prime = False\n",
    "                break\n",
    "\n",
    "        if is_prime:\n",
    "            count += 1  \n",
    "        num += 1\n",
    "\n",
    "    return num - 1 \n",
    "\n",
    "print(find_k_prime(5))   \n",
    "print(find_k_prime(34))  \n",
    "print(find_k_prime(-3))  \n"
   ]
  },
  {
   "cell_type": "code",
   "execution_count": null,
   "id": "c69a565f-e432-4fc1-bda3-1825fe6aabe1",
   "metadata": {},
   "outputs": [],
   "source": []
  }
 ],
 "metadata": {
  "kernelspec": {
   "display_name": "Python 3 (ipykernel)",
   "language": "python",
   "name": "python3"
  },
  "language_info": {
   "codemirror_mode": {
    "name": "ipython",
    "version": 3
   },
   "file_extension": ".py",
   "mimetype": "text/x-python",
   "name": "python",
   "nbconvert_exporter": "python",
   "pygments_lexer": "ipython3",
   "version": "3.12.4"
  }
 },
 "nbformat": 4,
 "nbformat_minor": 5
}
